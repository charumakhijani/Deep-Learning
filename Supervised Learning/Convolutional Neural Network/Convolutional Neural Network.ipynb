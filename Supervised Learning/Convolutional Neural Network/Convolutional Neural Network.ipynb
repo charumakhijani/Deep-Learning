{
 "cells": [
  {
   "cell_type": "code",
   "execution_count": 3,
   "metadata": {},
   "outputs": [],
   "source": [
    "from keras.models import Sequential\n",
    "from keras.layers import Convolution2D\n",
    "from keras.layers import MaxPool2D\n",
    "from keras.layers import Flatten\n",
    "from keras.layers import Dense"
   ]
  },
  {
   "cell_type": "markdown",
   "metadata": {},
   "source": [
    "# Part 1 - Building CNN"
   ]
  },
  {
   "cell_type": "code",
   "execution_count": 4,
   "metadata": {},
   "outputs": [],
   "source": [
    "# Initializing CNN\n",
    "classifier = Sequential()"
   ]
  },
  {
   "cell_type": "code",
   "execution_count": 6,
   "metadata": {},
   "outputs": [
    {
     "name": "stderr",
     "output_type": "stream",
     "text": [
      "/anaconda/envs/py35/lib/python3.5/site-packages/ipykernel/__main__.py:1: UserWarning: Update your `Conv2D` call to the Keras 2 API: `Conv2D(32, (3, 3), activation=\"relu\", input_shape=(64, 64, 3...)`\n",
      "  if __name__ == '__main__':\n"
     ]
    }
   ],
   "source": [
    "# Step 1 - Convolution\n",
    "classifier.add(Convolution2D(32, 3, 3, input_shape = (64,64,3), activation = 'relu'))"
   ]
  },
  {
   "cell_type": "code",
   "execution_count": 7,
   "metadata": {},
   "outputs": [],
   "source": [
    "# Step 2 - Max Pooling\n",
    "classifier.add(MaxPool2D(pool_size = (2,2)))"
   ]
  },
  {
   "cell_type": "code",
   "execution_count": 8,
   "metadata": {},
   "outputs": [],
   "source": [
    "# Step 3 -  Falttening\n",
    "classifier.add(Flatten())"
   ]
  },
  {
   "cell_type": "code",
   "execution_count": 9,
   "metadata": {},
   "outputs": [
    {
     "name": "stderr",
     "output_type": "stream",
     "text": [
      "/anaconda/envs/py35/lib/python3.5/site-packages/ipykernel/__main__.py:1: UserWarning: Update your `Dense` call to the Keras 2 API: `Dense(activation=\"relu\", units=128)`\n",
      "  if __name__ == '__main__':\n"
     ]
    }
   ],
   "source": [
    "# Step 4 - Full Connection\n",
    "classifier.add(Dense(output_dim = 128, activation = 'relu'))"
   ]
  },
  {
   "cell_type": "code",
   "execution_count": 10,
   "metadata": {},
   "outputs": [
    {
     "name": "stderr",
     "output_type": "stream",
     "text": [
      "/anaconda/envs/py35/lib/python3.5/site-packages/ipykernel/__main__.py:1: UserWarning: Update your `Dense` call to the Keras 2 API: `Dense(activation=\"sigmoid\", units=1)`\n",
      "  if __name__ == '__main__':\n"
     ]
    }
   ],
   "source": [
    "classifier.add(Dense(output_dim = 1, activation = 'sigmoid'))"
   ]
  },
  {
   "cell_type": "code",
   "execution_count": 11,
   "metadata": {},
   "outputs": [],
   "source": [
    "# Compile CNN\n",
    "classifier.compile(optimizer = 'adam', loss = 'binary_crossentropy', metrics = ['accuracy'])"
   ]
  },
  {
   "cell_type": "markdown",
   "metadata": {},
   "source": [
    "# Part 2 -  Fitting the CNN to images"
   ]
  },
  {
   "cell_type": "code",
   "execution_count": 12,
   "metadata": {},
   "outputs": [],
   "source": [
    "from keras.preprocessing.image import ImageDataGenerator"
   ]
  },
  {
   "cell_type": "code",
   "execution_count": 13,
   "metadata": {},
   "outputs": [],
   "source": [
    "train_datagen = ImageDataGenerator(\n",
    "        rescale=1./255,\n",
    "        shear_range=0.2,\n",
    "        zoom_range=0.2,\n",
    "        horizontal_flip=True)"
   ]
  },
  {
   "cell_type": "code",
   "execution_count": 14,
   "metadata": {},
   "outputs": [],
   "source": [
    "test_datagen = ImageDataGenerator(rescale=1./255)"
   ]
  },
  {
   "cell_type": "code",
   "execution_count": 15,
   "metadata": {},
   "outputs": [
    {
     "name": "stdout",
     "output_type": "stream",
     "text": [
      "Found 8000 images belonging to 2 classes.\n"
     ]
    }
   ],
   "source": [
    "training_set = train_datagen.flow_from_directory(\n",
    "        'dataset/training_set',\n",
    "        target_size=(64, 64),\n",
    "        batch_size=32,\n",
    "        class_mode='binary')"
   ]
  },
  {
   "cell_type": "code",
   "execution_count": 16,
   "metadata": {},
   "outputs": [
    {
     "name": "stdout",
     "output_type": "stream",
     "text": [
      "Found 2000 images belonging to 2 classes.\n"
     ]
    }
   ],
   "source": [
    "test_set = test_datagen.flow_from_directory(\n",
    "        'dataset/test_set',\n",
    "        target_size=(64, 64),\n",
    "        batch_size=32,\n",
    "        class_mode='binary')"
   ]
  },
  {
   "cell_type": "code",
   "execution_count": 17,
   "metadata": {},
   "outputs": [
    {
     "name": "stdout",
     "output_type": "stream",
     "text": [
      "WARNING:tensorflow:From /anaconda/envs/py35/lib/python3.5/site-packages/tensorflow/python/ops/math_ops.py:3066: to_int32 (from tensorflow.python.ops.math_ops) is deprecated and will be removed in a future version.\n",
      "Instructions for updating:\n",
      "Use tf.cast instead.\n",
      "Epoch 1/25\n",
      "8000/8000 [==============================] - 1816s 227ms/step - loss: 0.3321 - acc: 0.8428 - val_loss: 0.8432 - val_acc: 0.7700\n",
      "Epoch 2/25\n",
      "8000/8000 [==============================] - 1793s 224ms/step - loss: 0.0729 - acc: 0.9742 - val_loss: 1.1958 - val_acc: 0.7735\n",
      "Epoch 3/25\n",
      "8000/8000 [==============================] - 1796s 225ms/step - loss: 0.0383 - acc: 0.9868 - val_loss: 1.2501 - val_acc: 0.7776\n",
      "Epoch 4/25\n",
      "8000/8000 [==============================] - 1789s 224ms/step - loss: 0.0291 - acc: 0.9904 - val_loss: 1.5287 - val_acc: 0.7749\n",
      "Epoch 5/25\n",
      "8000/8000 [==============================] - 1795s 224ms/step - loss: 0.0233 - acc: 0.9924 - val_loss: 1.6360 - val_acc: 0.7770\n",
      "Epoch 6/25\n",
      "8000/8000 [==============================] - 1791s 224ms/step - loss: 0.0189 - acc: 0.9941 - val_loss: 1.6395 - val_acc: 0.7868\n",
      "Epoch 7/25\n",
      "8000/8000 [==============================] - 1795s 224ms/step - loss: 0.0164 - acc: 0.9950 - val_loss: 1.7580 - val_acc: 0.7764\n",
      "Epoch 8/25\n",
      "8000/8000 [==============================] - 1794s 224ms/step - loss: 0.0149 - acc: 0.9954 - val_loss: 1.9085 - val_acc: 0.7598\n",
      "Epoch 9/25\n",
      "8000/8000 [==============================] - 1799s 225ms/step - loss: 0.0127 - acc: 0.9960 - val_loss: 1.7985 - val_acc: 0.7780\n",
      "Epoch 10/25\n",
      "8000/8000 [==============================] - 1795s 224ms/step - loss: 0.0122 - acc: 0.9963 - val_loss: 1.8601 - val_acc: 0.7774\n",
      "Epoch 11/25\n",
      "8000/8000 [==============================] - 1800s 225ms/step - loss: 0.0113 - acc: 0.9967 - val_loss: 1.7858 - val_acc: 0.7817\n",
      "Epoch 12/25\n",
      "8000/8000 [==============================] - 1794s 224ms/step - loss: 0.0106 - acc: 0.9968 - val_loss: 1.7849 - val_acc: 0.7879\n",
      "Epoch 13/25\n",
      "8000/8000 [==============================] - 1800s 225ms/step - loss: 0.0092 - acc: 0.9972 - val_loss: 1.9428 - val_acc: 0.7909\n",
      "Epoch 14/25\n",
      "8000/8000 [==============================] - 1795s 224ms/step - loss: 0.0094 - acc: 0.9972 - val_loss: 2.0684 - val_acc: 0.7844\n",
      "Epoch 15/25\n",
      "8000/8000 [==============================] - 1799s 225ms/step - loss: 0.0091 - acc: 0.9974 - val_loss: 2.0235 - val_acc: 0.7798\n",
      "Epoch 16/25\n",
      "8000/8000 [==============================] - 1795s 224ms/step - loss: 0.0086 - acc: 0.9976 - val_loss: 2.1077 - val_acc: 0.7820\n",
      "Epoch 17/25\n",
      "8000/8000 [==============================] - 1798s 225ms/step - loss: 0.0086 - acc: 0.9976 - val_loss: 1.9883 - val_acc: 0.7845\n",
      "Epoch 18/25\n",
      "8000/8000 [==============================] - 1798s 225ms/step - loss: 0.0084 - acc: 0.9977 - val_loss: 2.1100 - val_acc: 0.7728\n",
      "Epoch 19/25\n",
      "8000/8000 [==============================] - 1798s 225ms/step - loss: 0.0075 - acc: 0.9979 - val_loss: 2.1294 - val_acc: 0.7804\n",
      "Epoch 20/25\n",
      "8000/8000 [==============================] - 1795s 224ms/step - loss: 0.0072 - acc: 0.9978 - val_loss: 2.1261 - val_acc: 0.7786\n",
      "Epoch 21/25\n",
      "8000/8000 [==============================] - 1802s 225ms/step - loss: 0.0076 - acc: 0.9980 - val_loss: 2.2988 - val_acc: 0.7721\n",
      "Epoch 22/25\n",
      "8000/8000 [==============================] - 1800s 225ms/step - loss: 0.0076 - acc: 0.9981 - val_loss: 2.2313 - val_acc: 0.7743\n",
      "Epoch 23/25\n",
      "8000/8000 [==============================] - 1800s 225ms/step - loss: 0.0071 - acc: 0.9982 - val_loss: 2.5875 - val_acc: 0.7510\n",
      "Epoch 24/25\n",
      "8000/8000 [==============================] - 1797s 225ms/step - loss: 0.0074 - acc: 0.9980 - val_loss: 1.9950 - val_acc: 0.7931\n",
      "Epoch 25/25\n",
      "8000/8000 [==============================] - 1801s 225ms/step - loss: 0.0069 - acc: 0.9981 - val_loss: 2.1269 - val_acc: 0.7833\n"
     ]
    },
    {
     "data": {
      "text/plain": [
       "<keras.callbacks.History at 0x7fda0b295e80>"
      ]
     },
     "execution_count": 17,
     "metadata": {},
     "output_type": "execute_result"
    }
   ],
   "source": [
    "classifier.fit_generator(\n",
    "        training_set,\n",
    "        steps_per_epoch=8000,\n",
    "        epochs=25,\n",
    "        validation_data=test_set,\n",
    "        validation_steps=2000)"
   ]
  },
  {
   "cell_type": "markdown",
   "metadata": {},
   "source": [
    "# Re- building CNN with another convolution layer"
   ]
  },
  {
   "cell_type": "code",
   "execution_count": 18,
   "metadata": {},
   "outputs": [],
   "source": [
    "classifier1 = Sequential()"
   ]
  },
  {
   "cell_type": "code",
   "execution_count": 19,
   "metadata": {},
   "outputs": [
    {
     "name": "stderr",
     "output_type": "stream",
     "text": [
      "/anaconda/envs/py35/lib/python3.5/site-packages/ipykernel/__main__.py:2: UserWarning: Update your `Conv2D` call to the Keras 2 API: `Conv2D(32, (3, 3), activation=\"relu\", input_shape=(64, 64, 3...)`\n",
      "  from ipykernel import kernelapp as app\n"
     ]
    }
   ],
   "source": [
    "# Step 1 - Convolution\n",
    "classifier1.add(Convolution2D(32, 3, 3, input_shape = (64,64,3), activation = 'relu'))"
   ]
  },
  {
   "cell_type": "code",
   "execution_count": 20,
   "metadata": {},
   "outputs": [],
   "source": [
    "# Step 2 - Max Pooling\n",
    "classifier1.add(MaxPool2D(pool_size = (2,2)))"
   ]
  },
  {
   "cell_type": "code",
   "execution_count": 21,
   "metadata": {},
   "outputs": [
    {
     "name": "stderr",
     "output_type": "stream",
     "text": [
      "/anaconda/envs/py35/lib/python3.5/site-packages/ipykernel/__main__.py:2: UserWarning: Update your `Conv2D` call to the Keras 2 API: `Conv2D(32, (3, 3), activation=\"relu\")`\n",
      "  from ipykernel import kernelapp as app\n"
     ]
    }
   ],
   "source": [
    "# Adding a second convolution layer\n",
    "classifier1.add(Convolution2D(32, 3, 3, activation = 'relu'))\n",
    "classifier1.add(MaxPool2D(pool_size = (2,2)))"
   ]
  },
  {
   "cell_type": "code",
   "execution_count": 22,
   "metadata": {},
   "outputs": [],
   "source": [
    "# Step 3 -  Falttening\n",
    "classifier1.add(Flatten())"
   ]
  },
  {
   "cell_type": "code",
   "execution_count": 23,
   "metadata": {},
   "outputs": [
    {
     "name": "stderr",
     "output_type": "stream",
     "text": [
      "/anaconda/envs/py35/lib/python3.5/site-packages/ipykernel/__main__.py:2: UserWarning: Update your `Dense` call to the Keras 2 API: `Dense(activation=\"relu\", units=128)`\n",
      "  from ipykernel import kernelapp as app\n"
     ]
    }
   ],
   "source": [
    "# Step 4 - Full Connection\n",
    "classifier1.add(Dense(output_dim = 128, activation = 'relu'))"
   ]
  },
  {
   "cell_type": "code",
   "execution_count": 24,
   "metadata": {},
   "outputs": [
    {
     "name": "stderr",
     "output_type": "stream",
     "text": [
      "/anaconda/envs/py35/lib/python3.5/site-packages/ipykernel/__main__.py:1: UserWarning: Update your `Dense` call to the Keras 2 API: `Dense(activation=\"sigmoid\", units=1)`\n",
      "  if __name__ == '__main__':\n"
     ]
    }
   ],
   "source": [
    "classifier1.add(Dense(output_dim = 1, activation = 'sigmoid'))"
   ]
  },
  {
   "cell_type": "code",
   "execution_count": 25,
   "metadata": {},
   "outputs": [],
   "source": [
    "# Compile CNN\n",
    "classifier1.compile(optimizer = 'adam', loss = 'binary_crossentropy', metrics = ['accuracy'])"
   ]
  },
  {
   "cell_type": "markdown",
   "metadata": {},
   "source": [
    "# Re-fitting"
   ]
  },
  {
   "cell_type": "code",
   "execution_count": 26,
   "metadata": {},
   "outputs": [],
   "source": [
    "from keras.preprocessing.image import ImageDataGenerator"
   ]
  },
  {
   "cell_type": "code",
   "execution_count": 27,
   "metadata": {},
   "outputs": [],
   "source": [
    "train_datagen1 = ImageDataGenerator(\n",
    "        rescale=1./255,\n",
    "        shear_range=0.2,\n",
    "        zoom_range=0.2,\n",
    "        horizontal_flip=True)"
   ]
  },
  {
   "cell_type": "code",
   "execution_count": 28,
   "metadata": {},
   "outputs": [],
   "source": [
    "test_datagen1 = ImageDataGenerator(rescale=1./255)"
   ]
  },
  {
   "cell_type": "code",
   "execution_count": 29,
   "metadata": {},
   "outputs": [
    {
     "name": "stdout",
     "output_type": "stream",
     "text": [
      "Found 8000 images belonging to 2 classes.\n"
     ]
    }
   ],
   "source": [
    "training_set1 = train_datagen1.flow_from_directory(\n",
    "        'dataset/training_set',\n",
    "        target_size=(64, 64),\n",
    "        batch_size=32,\n",
    "        class_mode='binary')"
   ]
  },
  {
   "cell_type": "code",
   "execution_count": 30,
   "metadata": {},
   "outputs": [
    {
     "name": "stdout",
     "output_type": "stream",
     "text": [
      "Found 2000 images belonging to 2 classes.\n"
     ]
    }
   ],
   "source": [
    "test_set1 = test_datagen1.flow_from_directory(\n",
    "        'dataset/test_set',\n",
    "        target_size=(64, 64),\n",
    "        batch_size=32,\n",
    "        class_mode='binary')"
   ]
  },
  {
   "cell_type": "code",
   "execution_count": 31,
   "metadata": {},
   "outputs": [
    {
     "name": "stdout",
     "output_type": "stream",
     "text": [
      "Epoch 1/25\n",
      "8000/8000 [==============================] - 1174s 147ms/step - loss: 0.3459 - acc: 0.8382 - val_loss: 0.6342 - val_acc: 0.7961\n",
      "Epoch 2/25\n",
      "8000/8000 [==============================] - 1171s 146ms/step - loss: 0.0879 - acc: 0.9673 - val_loss: 0.9662 - val_acc: 0.8012\n",
      "Epoch 3/25\n",
      "8000/8000 [==============================] - 1171s 146ms/step - loss: 0.0456 - acc: 0.9841 - val_loss: 1.1269 - val_acc: 0.8053\n",
      "Epoch 4/25\n",
      "8000/8000 [==============================] - 1172s 147ms/step - loss: 0.0326 - acc: 0.9888 - val_loss: 1.3673 - val_acc: 0.7922\n",
      "Epoch 5/25\n",
      "8000/8000 [==============================] - 1172s 147ms/step - loss: 0.0268 - acc: 0.9907 - val_loss: 1.3796 - val_acc: 0.8053\n",
      "Epoch 6/25\n",
      "8000/8000 [==============================] - 1172s 146ms/step - loss: 0.0228 - acc: 0.9925 - val_loss: 1.3573 - val_acc: 0.8020\n",
      "Epoch 7/25\n",
      "8000/8000 [==============================] - 1171s 146ms/step - loss: 0.0194 - acc: 0.9938 - val_loss: 1.4419 - val_acc: 0.7982\n",
      "Epoch 8/25\n",
      "8000/8000 [==============================] - 1171s 146ms/step - loss: 0.0181 - acc: 0.9941 - val_loss: 1.5435 - val_acc: 0.7998\n",
      "Epoch 9/25\n",
      "8000/8000 [==============================] - 1173s 147ms/step - loss: 0.0163 - acc: 0.9948 - val_loss: 1.7091 - val_acc: 0.7884\n",
      "Epoch 10/25\n",
      "8000/8000 [==============================] - 1173s 147ms/step - loss: 0.0146 - acc: 0.9954 - val_loss: 1.4752 - val_acc: 0.8058\n",
      "Epoch 11/25\n",
      "8000/8000 [==============================] - 1173s 147ms/step - loss: 0.0128 - acc: 0.9960 - val_loss: 1.6808 - val_acc: 0.8019\n",
      "Epoch 12/25\n",
      "8000/8000 [==============================] - 1173s 147ms/step - loss: 0.0128 - acc: 0.9958 - val_loss: 1.7218 - val_acc: 0.7920\n",
      "Epoch 13/25\n",
      "8000/8000 [==============================] - 1173s 147ms/step - loss: 0.0122 - acc: 0.9964 - val_loss: 1.9721 - val_acc: 0.7780\n",
      "Epoch 14/25\n",
      "8000/8000 [==============================] - 1172s 146ms/step - loss: 0.0114 - acc: 0.9964 - val_loss: 1.7383 - val_acc: 0.7969\n",
      "Epoch 15/25\n",
      "8000/8000 [==============================] - 1170s 146ms/step - loss: 0.0099 - acc: 0.9969 - val_loss: 1.7396 - val_acc: 0.7940\n",
      "Epoch 16/25\n",
      "8000/8000 [==============================] - 1171s 146ms/step - loss: 0.0103 - acc: 0.9969 - val_loss: 1.7262 - val_acc: 0.7969\n",
      "Epoch 17/25\n",
      "8000/8000 [==============================] - 1170s 146ms/step - loss: 0.0095 - acc: 0.9972 - val_loss: 1.7568 - val_acc: 0.8015\n",
      "Epoch 18/25\n",
      "8000/8000 [==============================] - 1171s 146ms/step - loss: 0.0089 - acc: 0.9973 - val_loss: 1.6412 - val_acc: 0.8075\n",
      "Epoch 19/25\n",
      "8000/8000 [==============================] - 1172s 147ms/step - loss: 0.0094 - acc: 0.9973 - val_loss: 1.7843 - val_acc: 0.7984\n",
      "Epoch 20/25\n",
      "8000/8000 [==============================] - 1173s 147ms/step - loss: 0.0074 - acc: 0.9978 - val_loss: 1.8468 - val_acc: 0.7977\n",
      "Epoch 21/25\n",
      "8000/8000 [==============================] - 1172s 146ms/step - loss: 0.0084 - acc: 0.9975 - val_loss: 1.8905 - val_acc: 0.7944\n",
      "Epoch 22/25\n",
      "8000/8000 [==============================] - 1174s 147ms/step - loss: 0.0078 - acc: 0.9977 - val_loss: 1.7742 - val_acc: 0.8017\n",
      "Epoch 23/25\n",
      "8000/8000 [==============================] - 1173s 147ms/step - loss: 0.0072 - acc: 0.9979 - val_loss: 1.9352 - val_acc: 0.7959\n",
      "Epoch 24/25\n",
      "8000/8000 [==============================] - 1172s 147ms/step - loss: 0.0087 - acc: 0.9977 - val_loss: 1.7551 - val_acc: 0.8119\n",
      "Epoch 25/25\n",
      "8000/8000 [==============================] - 1171s 146ms/step - loss: 0.0074 - acc: 0.9980 - val_loss: 1.8305 - val_acc: 0.7994\n"
     ]
    },
    {
     "data": {
      "text/plain": [
       "<keras.callbacks.History at 0x7fda0add0d30>"
      ]
     },
     "execution_count": 31,
     "metadata": {},
     "output_type": "execute_result"
    }
   ],
   "source": [
    "classifier1.fit_generator(\n",
    "        training_set1,\n",
    "        steps_per_epoch=8000,\n",
    "        epochs=25,\n",
    "        validation_data=test_set1,\n",
    "        validation_steps=2000)"
   ]
  },
  {
   "cell_type": "code",
   "execution_count": null,
   "metadata": {},
   "outputs": [],
   "source": []
  },
  {
   "cell_type": "code",
   "execution_count": 32,
   "metadata": {},
   "outputs": [],
   "source": [
    "classifier2 = Sequential()"
   ]
  },
  {
   "cell_type": "code",
   "execution_count": 33,
   "metadata": {},
   "outputs": [
    {
     "name": "stderr",
     "output_type": "stream",
     "text": [
      "/anaconda/envs/py35/lib/python3.5/site-packages/ipykernel/__main__.py:2: UserWarning: Update your `Conv2D` call to the Keras 2 API: `Conv2D(32, (3, 3), activation=\"relu\", input_shape=(64, 64, 3...)`\n",
      "  from ipykernel import kernelapp as app\n"
     ]
    }
   ],
   "source": [
    "# Step 1 - Convolution\n",
    "classifier2.add(Convolution2D(32, 3, 3, input_shape = (64,64,3), activation = 'relu'))"
   ]
  },
  {
   "cell_type": "code",
   "execution_count": 34,
   "metadata": {},
   "outputs": [],
   "source": [
    "# Step 2 - Max Pooling\n",
    "classifier2.add(MaxPool2D(pool_size = (2,2)))"
   ]
  },
  {
   "cell_type": "code",
   "execution_count": 35,
   "metadata": {},
   "outputs": [
    {
     "name": "stderr",
     "output_type": "stream",
     "text": [
      "/anaconda/envs/py35/lib/python3.5/site-packages/ipykernel/__main__.py:2: UserWarning: Update your `Conv2D` call to the Keras 2 API: `Conv2D(32, (3, 3), activation=\"relu\")`\n",
      "  from ipykernel import kernelapp as app\n"
     ]
    }
   ],
   "source": [
    "# Adding a second convolution layer\n",
    "classifier2.add(Convolution2D(32, 3, 3, activation = 'relu'))\n",
    "classifier2.add(MaxPool2D(pool_size = (2,2)))"
   ]
  },
  {
   "cell_type": "code",
   "execution_count": 36,
   "metadata": {},
   "outputs": [
    {
     "name": "stderr",
     "output_type": "stream",
     "text": [
      "/anaconda/envs/py35/lib/python3.5/site-packages/ipykernel/__main__.py:2: UserWarning: Update your `Conv2D` call to the Keras 2 API: `Conv2D(32, (3, 3), activation=\"relu\")`\n",
      "  from ipykernel import kernelapp as app\n"
     ]
    }
   ],
   "source": [
    "# Adding a third convolution layer\n",
    "classifier2.add(Convolution2D(32, 3, 3, activation = 'relu'))\n",
    "classifier2.add(MaxPool2D(pool_size = (2,2)))"
   ]
  },
  {
   "cell_type": "code",
   "execution_count": 37,
   "metadata": {},
   "outputs": [],
   "source": [
    "# Step 3 -  Falttening\n",
    "classifier2.add(Flatten())"
   ]
  },
  {
   "cell_type": "code",
   "execution_count": 38,
   "metadata": {},
   "outputs": [
    {
     "name": "stderr",
     "output_type": "stream",
     "text": [
      "/anaconda/envs/py35/lib/python3.5/site-packages/ipykernel/__main__.py:2: UserWarning: Update your `Dense` call to the Keras 2 API: `Dense(activation=\"relu\", units=128)`\n",
      "  from ipykernel import kernelapp as app\n"
     ]
    }
   ],
   "source": [
    "# Step 4 - Full Connection\n",
    "classifier2.add(Dense(output_dim = 128, activation = 'relu'))"
   ]
  },
  {
   "cell_type": "code",
   "execution_count": 39,
   "metadata": {},
   "outputs": [
    {
     "name": "stderr",
     "output_type": "stream",
     "text": [
      "/anaconda/envs/py35/lib/python3.5/site-packages/ipykernel/__main__.py:1: UserWarning: Update your `Dense` call to the Keras 2 API: `Dense(activation=\"sigmoid\", units=1)`\n",
      "  if __name__ == '__main__':\n"
     ]
    }
   ],
   "source": [
    "classifier2.add(Dense(output_dim = 1, activation = 'sigmoid'))"
   ]
  },
  {
   "cell_type": "code",
   "execution_count": 40,
   "metadata": {},
   "outputs": [],
   "source": [
    "# Compile CNN\n",
    "classifier2.compile(optimizer = 'adam', loss = 'binary_crossentropy', metrics = ['accuracy'])"
   ]
  },
  {
   "cell_type": "code",
   "execution_count": 41,
   "metadata": {},
   "outputs": [],
   "source": [
    "train_datagen2 = ImageDataGenerator(\n",
    "        rescale=1./255,\n",
    "        shear_range=0.2,\n",
    "        zoom_range=0.2,\n",
    "        horizontal_flip=True)"
   ]
  },
  {
   "cell_type": "code",
   "execution_count": 42,
   "metadata": {},
   "outputs": [],
   "source": [
    "test_datagen2 = ImageDataGenerator(rescale=1./255)"
   ]
  },
  {
   "cell_type": "code",
   "execution_count": 43,
   "metadata": {},
   "outputs": [
    {
     "name": "stdout",
     "output_type": "stream",
     "text": [
      "Found 8000 images belonging to 2 classes.\n"
     ]
    }
   ],
   "source": [
    "training_set2 = train_datagen2.flow_from_directory(\n",
    "        'dataset/training_set',\n",
    "        target_size=(64, 64),\n",
    "        batch_size=32,\n",
    "        class_mode='binary')"
   ]
  },
  {
   "cell_type": "code",
   "execution_count": 44,
   "metadata": {},
   "outputs": [
    {
     "name": "stdout",
     "output_type": "stream",
     "text": [
      "Found 2000 images belonging to 2 classes.\n"
     ]
    }
   ],
   "source": [
    "test_set2 = test_datagen2.flow_from_directory(\n",
    "        'dataset/test_set',\n",
    "        target_size=(64, 64),\n",
    "        batch_size=32,\n",
    "        class_mode='binary')"
   ]
  },
  {
   "cell_type": "code",
   "execution_count": 45,
   "metadata": {},
   "outputs": [
    {
     "name": "stdout",
     "output_type": "stream",
     "text": [
      "Epoch 1/25\n",
      "8000/8000 [==============================] - 1176s 147ms/step - loss: 0.3759 - acc: 0.8211 - val_loss: 0.4486 - val_acc: 0.8255\n",
      "Epoch 2/25\n",
      "8000/8000 [==============================] - 1171s 146ms/step - loss: 0.1331 - acc: 0.9475 - val_loss: 0.6925 - val_acc: 0.8339\n",
      "Epoch 3/25\n",
      "8000/8000 [==============================] - 1170s 146ms/step - loss: 0.0680 - acc: 0.9749 - val_loss: 0.8286 - val_acc: 0.8397\n",
      "Epoch 4/25\n",
      "8000/8000 [==============================] - 1171s 146ms/step - loss: 0.0508 - acc: 0.9816 - val_loss: 1.0578 - val_acc: 0.8196\n",
      "Epoch 5/25\n",
      "8000/8000 [==============================] - 1170s 146ms/step - loss: 0.0408 - acc: 0.9854 - val_loss: 0.9829 - val_acc: 0.8274\n",
      "Epoch 6/25\n",
      "8000/8000 [==============================] - 1167s 146ms/step - loss: 0.0357 - acc: 0.9875 - val_loss: 1.0911 - val_acc: 0.8247\n",
      "Epoch 7/25\n",
      "8000/8000 [==============================] - 1169s 146ms/step - loss: 0.0317 - acc: 0.9890 - val_loss: 1.1122 - val_acc: 0.8164\n",
      "Epoch 8/25\n",
      "8000/8000 [==============================] - 1167s 146ms/step - loss: 0.0285 - acc: 0.9904 - val_loss: 1.2397 - val_acc: 0.8155\n",
      "Epoch 9/25\n",
      "8000/8000 [==============================] - 1168s 146ms/step - loss: 0.0273 - acc: 0.9908 - val_loss: 1.1445 - val_acc: 0.8238\n",
      "Epoch 10/25\n",
      "8000/8000 [==============================] - 1170s 146ms/step - loss: 0.0237 - acc: 0.9922 - val_loss: 1.1447 - val_acc: 0.8217\n",
      "Epoch 11/25\n",
      "8000/8000 [==============================] - 1171s 146ms/step - loss: 0.0218 - acc: 0.9928 - val_loss: 1.1709 - val_acc: 0.8267\n",
      "Epoch 12/25\n",
      "8000/8000 [==============================] - 1170s 146ms/step - loss: 0.0203 - acc: 0.9934 - val_loss: 1.3028 - val_acc: 0.8205\n",
      "Epoch 13/25\n",
      "8000/8000 [==============================] - 1171s 146ms/step - loss: 0.0190 - acc: 0.9937 - val_loss: 1.3358 - val_acc: 0.8275\n",
      "Epoch 14/25\n",
      "8000/8000 [==============================] - 1170s 146ms/step - loss: 0.0187 - acc: 0.9939 - val_loss: 1.2830 - val_acc: 0.8219\n",
      "Epoch 15/25\n",
      "8000/8000 [==============================] - 1171s 146ms/step - loss: 0.0172 - acc: 0.9945 - val_loss: 1.2804 - val_acc: 0.8216\n",
      "Epoch 16/25\n",
      "8000/8000 [==============================] - 1172s 146ms/step - loss: 0.0164 - acc: 0.9946 - val_loss: 1.3423 - val_acc: 0.8295\n",
      "Epoch 17/25\n",
      "8000/8000 [==============================] - 1168s 146ms/step - loss: 0.0164 - acc: 0.9945 - val_loss: 1.2864 - val_acc: 0.8095\n",
      "Epoch 18/25\n",
      "8000/8000 [==============================] - 1168s 146ms/step - loss: 0.0156 - acc: 0.9949 - val_loss: 1.3169 - val_acc: 0.8198\n",
      "Epoch 19/25\n",
      "8000/8000 [==============================] - 1172s 146ms/step - loss: 0.0159 - acc: 0.9950 - val_loss: 1.3948 - val_acc: 0.8236\n",
      "Epoch 20/25\n",
      "8000/8000 [==============================] - 1169s 146ms/step - loss: 0.0156 - acc: 0.9952 - val_loss: 1.3909 - val_acc: 0.8296\n",
      "Epoch 21/25\n",
      "8000/8000 [==============================] - 1172s 146ms/step - loss: 0.0142 - acc: 0.9955 - val_loss: 1.4464 - val_acc: 0.8231\n",
      "Epoch 22/25\n",
      "8000/8000 [==============================] - 1169s 146ms/step - loss: 0.0142 - acc: 0.9957 - val_loss: 1.3836 - val_acc: 0.8277\n",
      "Epoch 23/25\n",
      "8000/8000 [==============================] - 1168s 146ms/step - loss: 0.0135 - acc: 0.9957 - val_loss: 1.3954 - val_acc: 0.8258\n",
      "Epoch 24/25\n",
      "8000/8000 [==============================] - 1170s 146ms/step - loss: 0.0140 - acc: 0.9957 - val_loss: 1.4885 - val_acc: 0.8243\n",
      "Epoch 25/25\n",
      "8000/8000 [==============================] - 1171s 146ms/step - loss: 0.0136 - acc: 0.9959 - val_loss: 1.4788 - val_acc: 0.8175\n"
     ]
    },
    {
     "data": {
      "text/plain": [
       "<keras.callbacks.History at 0x7fda0af983c8>"
      ]
     },
     "execution_count": 45,
     "metadata": {},
     "output_type": "execute_result"
    }
   ],
   "source": [
    "classifier2.fit_generator(\n",
    "        training_set2,\n",
    "        steps_per_epoch=8000,\n",
    "        epochs=25,\n",
    "        validation_data=test_set2,\n",
    "        validation_steps=2000)"
   ]
  },
  {
   "cell_type": "code",
   "execution_count": null,
   "metadata": {},
   "outputs": [],
   "source": []
  }
 ],
 "metadata": {
  "kernelspec": {
   "display_name": "Python 3.5",
   "language": "python",
   "name": "python3"
  },
  "language_info": {
   "codemirror_mode": {
    "name": "ipython",
    "version": 3
   },
   "file_extension": ".py",
   "mimetype": "text/x-python",
   "name": "python",
   "nbconvert_exporter": "python",
   "pygments_lexer": "ipython3",
   "version": "3.5.5"
  }
 },
 "nbformat": 4,
 "nbformat_minor": 2
}
